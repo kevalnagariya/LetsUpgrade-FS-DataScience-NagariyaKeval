{
 "cells": [
  {
   "cell_type": "markdown",
   "metadata": {},
   "source": [
    "## Assignment:\n",
    "class - create 3 classes class1(a1,a2,a3),m1, class2(b1,b2,b3)m2, class3(c1,c2,c3)m3 then, create an obj for 3 classes (c1,c2,c3), create a 4th class4(d1,d2,d3),m4"
   ]
  },
  {
   "cell_type": "code",
   "execution_count": 2,
   "metadata": {},
   "outputs": [
    {
     "data": {
      "text/plain": [
       "'1 + \" \" + 2 + \" \" + 3 + \" \" + 4 + \" \" + 5 + \" \" + 6 + \" \" + 7 + \" \" + 8 + \" \" + 9'"
      ]
     },
     "execution_count": 2,
     "metadata": {},
     "output_type": "execute_result"
    }
   ],
   "source": [
    "class Class1:\n",
    "    def __init__(self,a1,a2,a3):\n",
    "        self.a1=a1\n",
    "        self.a2=a2\n",
    "        self.a3=a3\n",
    "    def m1(self):\n",
    "        return (f'{self.a1} + \" \" + {self.a2} + \" \" + {self.a3}')\n",
    "class Class2:\n",
    "    def __init__(self,b1,b2,b3):\n",
    "        self.b1=b1\n",
    "        self.b2=b2\n",
    "        self.b3=b3\n",
    "    def m2(self):\n",
    "        return (f'{self.b1} + \" \" + {self.b2} + \" \" + {self.b3}')\n",
    "class Class3:\n",
    "    def __init__(self,c1,c2,c3):\n",
    "        self.c1=c1\n",
    "        self.c2=c2\n",
    "        self.c3=c3\n",
    "    def m3(self):\n",
    "        return (f'{self.c1} + \" \" + {self.c2} + \" \" + {self.c3}')\n",
    "class Class4:\n",
    "    def __init__(self,d1,d2,d3):\n",
    "        self.d1=d1\n",
    "        self.d2=d2\n",
    "        self.d3=d3\n",
    "    def m4(self):\n",
    "        return (f'{self.d1.m1()} + \" \" + {self.d2.m2()} + \" \" + {self.d3.m3()}')\n",
    "    \n",
    "a=Class1(1,2,3)\n",
    "b=Class2(4,5,6)\n",
    "c=Class3(7,8,9)\n",
    "\n",
    "d=Class4(a,b,c)\n",
    "\n",
    "d.m4()"
   ]
  },
  {
   "cell_type": "code",
   "execution_count": null,
   "metadata": {},
   "outputs": [],
   "source": []
  }
 ],
 "metadata": {
  "kernelspec": {
   "display_name": "Python 3",
   "language": "python",
   "name": "python3"
  },
  "language_info": {
   "codemirror_mode": {
    "name": "ipython",
    "version": 3
   },
   "file_extension": ".py",
   "mimetype": "text/x-python",
   "name": "python",
   "nbconvert_exporter": "python",
   "pygments_lexer": "ipython3",
   "version": "3.8.3"
  }
 },
 "nbformat": 4,
 "nbformat_minor": 4
}
