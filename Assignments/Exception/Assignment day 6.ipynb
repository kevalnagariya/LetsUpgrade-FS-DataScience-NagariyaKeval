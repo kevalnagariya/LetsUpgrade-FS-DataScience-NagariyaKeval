{
 "cells": [
  {
   "cell_type": "markdown",
   "metadata": {},
   "source": [
    "# Write a function that converts a temperature from degrees Kelvin to degrees Fahrenheit. Since zero degrees Kelvin is as cold as it gets, the function bails out if it sees a negative temperature.\n",
    "\n",
    "Write a exception in this case"
   ]
  },
  {
   "cell_type": "code",
   "execution_count": 1,
   "metadata": {},
   "outputs": [
    {
     "name": "stdout",
     "output_type": "stream",
     "text": [
      "32.0\n",
      "451.00399999999996\n",
      "Colder than absolute zero!!\n",
      "The execution is complete\n"
     ]
    }
   ],
   "source": [
    "try:\n",
    "    def Kelvin_to_Fahrenheit(Temperature):\n",
    "        assert (Temperature >= 0),\"Colder than absolute zero!!\"\n",
    "        return ((Temperature-273)*1.8)+32\n",
    "    print(Kelvin_to_Fahrenheit(273))\n",
    "    print(Kelvin_to_Fahrenheit(505.78))\n",
    "    print(Kelvin_to_Fahrenheit(-5)) \n",
    "except AssertionError:\n",
    "    print(\"Colder than absolute zero!!\")\n",
    "finally:\n",
    "    print(\"The execution is complete\")"
   ]
  },
  {
   "cell_type": "code",
   "execution_count": null,
   "metadata": {},
   "outputs": [],
   "source": []
  }
 ],
 "metadata": {
  "kernelspec": {
   "display_name": "Python 3",
   "language": "python",
   "name": "python3"
  },
  "language_info": {
   "codemirror_mode": {
    "name": "ipython",
    "version": 3
   },
   "file_extension": ".py",
   "mimetype": "text/x-python",
   "name": "python",
   "nbconvert_exporter": "python",
   "pygments_lexer": "ipython3",
   "version": "3.8.3"
  }
 },
 "nbformat": 4,
 "nbformat_minor": 4
}
